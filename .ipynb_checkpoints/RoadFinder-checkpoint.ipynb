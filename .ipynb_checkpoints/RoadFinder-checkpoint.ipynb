{
 "cells": [
  {
   "cell_type": "code",
   "execution_count": 60,
   "metadata": {},
   "outputs": [],
   "source": [
    "%matplotlib inline\n",
    "\n",
    "from bs4 import BeautifulSoup\n",
    "import urllib\n",
    "import cv2\n",
    "import matplotlib.pyplot as plt\n",
    "import numpy as np\n",
    "import pickle\n",
    "from tqdm import tqdm"
   ]
  },
  {
   "cell_type": "code",
   "execution_count": 17,
   "metadata": {},
   "outputs": [],
   "source": [
    "HOWMANY = 2"
   ]
  },
  {
   "cell_type": "code",
   "execution_count": 65,
   "metadata": {},
   "outputs": [
    {
     "name": "stdout",
     "output_type": "stream",
     "text": [
      "None None\n"
     ]
    }
   ],
   "source": [
    "def loadImage(url):\n",
    "    raw = urllib.request.urlopen(url).read()\n",
    "    npraw= np.array(bytearray(raw),dtype=np.uint8)\n",
    "    return cv2.imdecode(npraw,-1)#-1 -> as is (with the alpha channel)\n",
    "\n",
    "def getImageName(url):\n",
    "    return url.split('/').pop().split('.').pop(0)\n",
    "\n",
    "def loadImagesFromSite(url):\n",
    "    imgs = []\n",
    "    with urllib.request.urlopen(url) as response:\n",
    "        html = BeautifulSoup(response.read(),\"lxml\")\n",
    "        for link in tqdm(html.find_all('a')[:HOWMANY]):\n",
    "            img = loadImage(link.get('href'))\n",
    "            imgs += [img]\n",
    "    return np.array(imgs)  \n",
    "\n",
    "def saveDataset(X,Y):\n",
    "    with open('pickledDataset','wb') as f:\n",
    "        pickle.dump({\"X\":X,\"Y\":Y},f)\n",
    "        \n",
    "def loadDataset():\n",
    "    try:\n",
    "        with open('pickledDataset','rb') as f:\n",
    "            d = pickle.load(f)\n",
    "        return d[\"X\"],d[\"Y\"]\n",
    "    except:\n",
    "        return None,None\n",
    "    \n",
    "def display(X,Y,howmany):\n",
    "    if howmany is None:\n",
    "        howmany = X.shape[0]\n",
    "        \n",
    "    for i in range(howmany):\n",
    "        plt.figure()\n",
    "        plt.subplot(1,2,1)\n",
    "        plt.imshow(X[i])\n",
    "        plt.subplot(1,2,2)\n",
    "        plt.imshow(Y[i])"
   ]
  },
  {
   "cell_type": "code",
   "execution_count": 61,
   "metadata": {},
   "outputs": [],
   "source": [
    "def get_patches(image,size,side):\n",
    "    patches = []\n",
    "    \n",
    "    for i in range(int(size[0]/side)):\n",
    "        for j in range(int(size[1]/side)):\n",
    "            patches += [image[i*side:(i+1)*side,j*side:(j+1)*side]]\n",
    "#             if i<2 and j<2:\n",
    "#                 print(i,j)\n",
    "                \n",
    "#                 plt.figure()\n",
    "#                 plt.title(str(image[i*side:(i+1)*side,j*side:(j+1)*side].min()) +\" \"+ str(image[i*side:(i+1)*side,j*side:(j+1)*side].max()))\n",
    "#                 plt.imshow(image[i*side:(i+1)*side,j*side:(j+1)*side])\n",
    "    return patches\n",
    "\n",
    "def resize(image):\n",
    "    size = (1000,1000)\n",
    "    side = 100\n",
    "    #TODO resize\n",
    "    return cv2.resize(image,size),size,side\n",
    "\n",
    "def preprocessorX(image):\n",
    "    image,size,side = resize(image)\n",
    "    \n",
    "    image = image.astype(np.float32)\n",
    "    image = (image - image.mean())/image.std()\n",
    "    image[image<-3] = -3\n",
    "    image[image>3] = 3\n",
    "    image = (image - image.min())/(image.max() - image.min())\n",
    "    return get_patches(image,size,side)\n",
    "    \n",
    "\n",
    "def preprocessorY(image):\n",
    "    image,size,side = resize(image)    \n",
    "    \n",
    "    image = image.astype(np.float32)\n",
    "    image = (image - image.min())/(image.max() - image.min())\n",
    "    \n",
    "    return get_patches(image,size,side)\n",
    "\n",
    "def preprocess(images,preprocessor):\n",
    "    result = []\n",
    "    for image in images:\n",
    "        result += preprocessor(image)\n",
    "    return np.array(result)    "
   ]
  },
  {
   "cell_type": "code",
   "execution_count": 59,
   "metadata": {},
   "outputs": [
    {
     "name": "stderr",
     "output_type": "stream",
     "text": [
      "100%|████████████████████████████████████████████████████████████████████████████████████| 2/2 [00:15<00:00,  7.71s/it]\n"
     ]
    },
    {
     "name": "stdout",
     "output_type": "stream",
     "text": [
      "(200, 100, 100, 3)\n"
     ]
    }
   ],
   "source": [
    "if __name__==\"__main__\":\n",
    "    urlX = \"https://www.cs.toronto.edu/~vmnih/data/mass_roads/train/sat/index.html\"\n",
    "    urlY = \"https://www.cs.toronto.edu/~vmnih/data/mass_roads/train/map/index.html\"\n",
    "    \n",
    "    X,Y = loadDataset()\n",
    "    if X is None and Y is None:\n",
    "        X = loadImagesFromSite(urlX)\n",
    "        Y = loadImagesFromSite(urlY)\n",
    "    \n",
    "        X= preprocess(X,preprocessorX)\n",
    "        Y= preprocess(Y,preprocessorY)\n",
    "        \n",
    "        saveDataset(X,Y)\n",
    "        \n",
    "    print(images.shape)"
   ]
  },
  {
   "cell_type": "code",
   "execution_count": null,
   "metadata": {},
   "outputs": [],
   "source": []
  }
 ],
 "metadata": {
  "kernelspec": {
   "display_name": "Python 3",
   "language": "python",
   "name": "python3"
  },
  "language_info": {
   "codemirror_mode": {
    "name": "ipython",
    "version": 3
   },
   "file_extension": ".py",
   "mimetype": "text/x-python",
   "name": "python",
   "nbconvert_exporter": "python",
   "pygments_lexer": "ipython3",
   "version": "3.6.3"
  }
 },
 "nbformat": 4,
 "nbformat_minor": 2
}
