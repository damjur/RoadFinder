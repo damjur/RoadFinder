{
 "cells": [
  {
   "cell_type": "code",
   "execution_count": 8,
   "metadata": {},
   "outputs": [],
   "source": [
    "import wget\n",
    "import urllib\n",
    "from bs4 import BeautifulSoup\n",
    "from tqdm import tqdm,tqdm_notebook\n"
   ]
  },
  {
   "cell_type": "code",
   "execution_count": null,
   "metadata": {},
   "outputs": [],
   "source": [
    "urlX = \"https://www.cs.toronto.edu/~vmnih/data/mass_roads/train/sat/index.html\"\n",
    "urlY = \"https://www.cs.toronto.edu/~vmnih/data/mass_roads/train/map/index.html\"\n",
    "with urllib.request.urlopen(urlX) as response:\n",
    "            html = BeautifulSoup(response.read(),\"lxml\")\n",
    "            links = html.find_all('a')\n",
    "            for link in tqdm_notebook(links):\n",
    "                print(link)\n",
    "                wget.download(link)\n",
    "with urllib.request.urlopen(urlY) as response:\n",
    "            html = BeautifulSoup(response.read(),\"lxml\")\n",
    "            links = html.find_all('a')\n",
    "            for link in tqdm_notebook(links):\n",
    "                wget.download(link)"
   ]
  },
  {
   "cell_type": "code",
   "execution_count": null,
   "metadata": {},
   "outputs": [],
   "source": []
  }
 ],
 "metadata": {
  "kernelspec": {
   "display_name": "Python 3",
   "language": "python",
   "name": "python3"
  },
  "language_info": {
   "codemirror_mode": {
    "name": "ipython",
    "version": 3
   },
   "file_extension": ".py",
   "mimetype": "text/x-python",
   "name": "python",
   "nbconvert_exporter": "python",
   "pygments_lexer": "ipython3",
   "version": "3.6.5"
  }
 },
 "nbformat": 4,
 "nbformat_minor": 2
}
